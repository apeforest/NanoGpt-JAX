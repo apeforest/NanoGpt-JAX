{
  "nbformat": 4,
  "nbformat_minor": 0,
  "metadata": {
    "colab": {
      "provenance": [],
      "authorship_tag": "ABX9TyM9GFXuCM7Qs83/PxKFhhf0",
      "include_colab_link": true
    },
    "kernelspec": {
      "name": "python3",
      "display_name": "Python 3"
    },
    "language_info": {
      "name": "python"
    }
  },
  "cells": [
    {
      "cell_type": "markdown",
      "metadata": {
        "id": "view-in-github",
        "colab_type": "text"
      },
      "source": [
        "<a href=\"https://colab.research.google.com/github/apeforest/jaxGpt/blob/main/gpt_dev_jax.ipynb\" target=\"_parent\"><img src=\"https://colab.research.google.com/assets/colab-badge.svg\" alt=\"Open In Colab\"/></a>"
      ]
    },
    {
      "cell_type": "markdown",
      "source": [
        "# This is a JAX version of the NanoGPT example from Andrej Karpathy's tutorial [LET'S BUILD GPU FROM SCRATCH IN CODE SPELLED OUT.](https://www.youtube.com/watch?v=kCc8FmEb1nY)\n",
        "\n",
        "* PyTorch version of the [notebook](https://colab.research.google.com/drive/1JMLa53HDuA-i7ZBmqV7ZnA3c_fvtXnx-?usp=sharing)\n",
        "\n",
        "* PyTorch [code](https://github.com/karpathy/*nanoGPT*)\n",
        "\n",
        "* To learn more about [JAX](https://jax.readthedocs.io/en/latest/notebooks/quickstart.html)\n",
        "\n",
        "* This note book also uses the following neural network libraries built on top of JAX:\n",
        "  * [Flax](https://flax.readthedocs.io/en/latest/getting_started.html): a Python neural network library.\n",
        "  * [Optax](https://optax.readthedocs.io/en/latest/api.html): Commonly used optimizers.\n",
        "\n"
      ],
      "metadata": {
        "id": "pbtWe6--wljq"
      }
    },
    {
      "cell_type": "code",
      "source": [
        "# We always start with a dataset to train on. Let's download the tiny shakespeare dataset\n",
        "!wget https://raw.githubusercontent.com/karpathy/char-rnn/master/data/tinyshakespeare/input.txt"
      ],
      "metadata": {
        "colab": {
          "base_uri": "https://localhost:8080/"
        },
        "id": "3XqPEY38wmEC",
        "outputId": "4078473e-a5be-4931-8c1f-bd51b5975439"
      },
      "execution_count": 29,
      "outputs": [
        {
          "output_type": "stream",
          "name": "stdout",
          "text": [
            "--2023-06-21 07:59:11--  https://raw.githubusercontent.com/karpathy/char-rnn/master/data/tinyshakespeare/input.txt\n",
            "Resolving raw.githubusercontent.com (raw.githubusercontent.com)... 185.199.108.133, 185.199.110.133, 185.199.109.133, ...\n",
            "Connecting to raw.githubusercontent.com (raw.githubusercontent.com)|185.199.108.133|:443... connected.\n",
            "HTTP request sent, awaiting response... 200 OK\n",
            "Length: 1115394 (1.1M) [text/plain]\n",
            "Saving to: ‘input.txt.1’\n",
            "\n",
            "\rinput.txt.1           0%[                    ]       0  --.-KB/s               \rinput.txt.1         100%[===================>]   1.06M  --.-KB/s    in 0.03s   \n",
            "\n",
            "2023-06-21 07:59:11 (31.3 MB/s) - ‘input.txt.1’ saved [1115394/1115394]\n",
            "\n"
          ]
        }
      ]
    },
    {
      "cell_type": "code",
      "source": [
        "# read it in to inspect it\n",
        "with open('input.txt', 'r', encoding='utf-8') as f:\n",
        "    text = f.read()"
      ],
      "metadata": {
        "id": "JMLSnkAcwny6"
      },
      "execution_count": 30,
      "outputs": []
    },
    {
      "cell_type": "code",
      "source": [
        "print(\"length of dataset in characters: \", len(text))"
      ],
      "metadata": {
        "colab": {
          "base_uri": "https://localhost:8080/"
        },
        "id": "vj0_WmCWwpoy",
        "outputId": "41bcaf47-4126-4e31-fdb9-44d14c60f4f8"
      },
      "execution_count": 31,
      "outputs": [
        {
          "output_type": "stream",
          "name": "stdout",
          "text": [
            "length of dataset in characters:  1115394\n"
          ]
        }
      ]
    },
    {
      "cell_type": "code",
      "source": [
        "# let's look at the first 1000 characters\n",
        "print(text[:1000])"
      ],
      "metadata": {
        "colab": {
          "base_uri": "https://localhost:8080/"
        },
        "id": "Hn6NsdNKwrLr",
        "outputId": "079e42ec-447c-469f-e00b-7b2433a7930c"
      },
      "execution_count": 32,
      "outputs": [
        {
          "output_type": "stream",
          "name": "stdout",
          "text": [
            "First Citizen:\n",
            "Before we proceed any further, hear me speak.\n",
            "\n",
            "All:\n",
            "Speak, speak.\n",
            "\n",
            "First Citizen:\n",
            "You are all resolved rather to die than to famish?\n",
            "\n",
            "All:\n",
            "Resolved. resolved.\n",
            "\n",
            "First Citizen:\n",
            "First, you know Caius Marcius is chief enemy to the people.\n",
            "\n",
            "All:\n",
            "We know't, we know't.\n",
            "\n",
            "First Citizen:\n",
            "Let us kill him, and we'll have corn at our own price.\n",
            "Is't a verdict?\n",
            "\n",
            "All:\n",
            "No more talking on't; let it be done: away, away!\n",
            "\n",
            "Second Citizen:\n",
            "One word, good citizens.\n",
            "\n",
            "First Citizen:\n",
            "We are accounted poor citizens, the patricians good.\n",
            "What authority surfeits on would relieve us: if they\n",
            "would yield us but the superfluity, while it were\n",
            "wholesome, we might guess they relieved us humanely;\n",
            "but they think we are too dear: the leanness that\n",
            "afflicts us, the object of our misery, is as an\n",
            "inventory to particularise their abundance; our\n",
            "sufferance is a gain to them Let us revenge this with\n",
            "our pikes, ere we become rakes: for the gods know I\n",
            "speak this in hunger for bread, not in thirst for revenge.\n",
            "\n",
            "\n"
          ]
        }
      ]
    },
    {
      "cell_type": "code",
      "source": [
        "chars = sorted(list(set(text)))\n",
        "vocab_size = len(chars)\n",
        "print(''.join(chars))\n",
        "print(vocab_size)"
      ],
      "metadata": {
        "colab": {
          "base_uri": "https://localhost:8080/"
        },
        "id": "CBSLs-03ww5B",
        "outputId": "5da2d2c4-8318-47d6-ba23-38c655b82953"
      },
      "execution_count": 33,
      "outputs": [
        {
          "output_type": "stream",
          "name": "stdout",
          "text": [
            "\n",
            " !$&',-.3:;?ABCDEFGHIJKLMNOPQRSTUVWXYZabcdefghijklmnopqrstuvwxyz\n",
            "65\n"
          ]
        }
      ]
    },
    {
      "cell_type": "code",
      "source": [
        "# create a mapping from characters to integers\n",
        "stoi = { ch:i for i,ch in enumerate(chars) }\n",
        "itos = { i:ch for i,ch in enumerate(chars) }\n",
        "encode = lambda s: [stoi[c] for c in s] # encoder: take a string, output a list of integers\n",
        "decode = lambda l: ''.join([itos[i] for i in l]) # decoder: take a list of integers, output a string\n",
        "\n",
        "print(encode(\"hii there\"))\n",
        "print(decode(encode(\"hii there\")))"
      ],
      "metadata": {
        "colab": {
          "base_uri": "https://localhost:8080/"
        },
        "id": "dC5hWNM8x3hf",
        "outputId": "dc0f080b-1658-48ed-b839-9e357d365df6"
      },
      "execution_count": 34,
      "outputs": [
        {
          "output_type": "stream",
          "name": "stdout",
          "text": [
            "[46, 47, 47, 1, 58, 46, 43, 56, 43]\n",
            "hii there\n"
          ]
        }
      ]
    },
    {
      "cell_type": "markdown",
      "source": [
        "## This section below is implemented using JAX. Please compare with the original PyTorch [notebook](https://colab.research.google.com/drive/1JMLa53HDuA-i7ZBmqV7ZnA3c_fvtXnx-?usp=sharing) to see the differences."
      ],
      "metadata": {
        "id": "jNeqkOiPz-Sm"
      }
    },
    {
      "cell_type": "code",
      "source": [
        "# let's now encode the entire text dataset and store it into a jnp array\n",
        "import jax.numpy as jnp\n",
        "import jax\n",
        "\n",
        "jax.config.update(\"jax_enable_x64\", True)\n",
        "\n",
        "data = jnp.array(encode(text), dtype=jnp.int64)\n",
        "print(data.shape, data.dtype)\n",
        "print(data[:1000]) # the 1000 characters we looked at earier will to the GPT look like this"
      ],
      "metadata": {
        "colab": {
          "base_uri": "https://localhost:8080/"
        },
        "id": "JqUC_Ck6x5a4",
        "outputId": "9bbaa902-07d8-4f47-c2b7-5f7f9b1391f1"
      },
      "execution_count": 35,
      "outputs": [
        {
          "output_type": "stream",
          "name": "stdout",
          "text": [
            "(1115394,) int64\n",
            "[18 47 56 57 58  1 15 47 58 47 64 43 52 10  0 14 43 44 53 56 43  1 61 43\n",
            "  1 54 56 53 41 43 43 42  1 39 52 63  1 44 59 56 58 46 43 56  6  1 46 43\n",
            " 39 56  1 51 43  1 57 54 43 39 49  8  0  0 13 50 50 10  0 31 54 43 39 49\n",
            "  6  1 57 54 43 39 49  8  0  0 18 47 56 57 58  1 15 47 58 47 64 43 52 10\n",
            "  0 37 53 59  1 39 56 43  1 39 50 50  1 56 43 57 53 50 60 43 42  1 56 39\n",
            " 58 46 43 56  1 58 53  1 42 47 43  1 58 46 39 52  1 58 53  1 44 39 51 47\n",
            " 57 46 12  0  0 13 50 50 10  0 30 43 57 53 50 60 43 42  8  1 56 43 57 53\n",
            " 50 60 43 42  8  0  0 18 47 56 57 58  1 15 47 58 47 64 43 52 10  0 18 47\n",
            " 56 57 58  6  1 63 53 59  1 49 52 53 61  1 15 39 47 59 57  1 25 39 56 41\n",
            " 47 59 57  1 47 57  1 41 46 47 43 44  1 43 52 43 51 63  1 58 53  1 58 46\n",
            " 43  1 54 43 53 54 50 43  8  0  0 13 50 50 10  0 35 43  1 49 52 53 61  5\n",
            " 58  6  1 61 43  1 49 52 53 61  5 58  8  0  0 18 47 56 57 58  1 15 47 58\n",
            " 47 64 43 52 10  0 24 43 58  1 59 57  1 49 47 50 50  1 46 47 51  6  1 39\n",
            " 52 42  1 61 43  5 50 50  1 46 39 60 43  1 41 53 56 52  1 39 58  1 53 59\n",
            " 56  1 53 61 52  1 54 56 47 41 43  8  0 21 57  5 58  1 39  1 60 43 56 42\n",
            " 47 41 58 12  0  0 13 50 50 10  0 26 53  1 51 53 56 43  1 58 39 50 49 47\n",
            " 52 45  1 53 52  5 58 11  1 50 43 58  1 47 58  1 40 43  1 42 53 52 43 10\n",
            "  1 39 61 39 63  6  1 39 61 39 63  2  0  0 31 43 41 53 52 42  1 15 47 58\n",
            " 47 64 43 52 10  0 27 52 43  1 61 53 56 42  6  1 45 53 53 42  1 41 47 58\n",
            " 47 64 43 52 57  8  0  0 18 47 56 57 58  1 15 47 58 47 64 43 52 10  0 35\n",
            " 43  1 39 56 43  1 39 41 41 53 59 52 58 43 42  1 54 53 53 56  1 41 47 58\n",
            " 47 64 43 52 57  6  1 58 46 43  1 54 39 58 56 47 41 47 39 52 57  1 45 53\n",
            " 53 42  8  0 35 46 39 58  1 39 59 58 46 53 56 47 58 63  1 57 59 56 44 43\n",
            " 47 58 57  1 53 52  1 61 53 59 50 42  1 56 43 50 47 43 60 43  1 59 57 10\n",
            "  1 47 44  1 58 46 43 63  0 61 53 59 50 42  1 63 47 43 50 42  1 59 57  1\n",
            " 40 59 58  1 58 46 43  1 57 59 54 43 56 44 50 59 47 58 63  6  1 61 46 47\n",
            " 50 43  1 47 58  1 61 43 56 43  0 61 46 53 50 43 57 53 51 43  6  1 61 43\n",
            "  1 51 47 45 46 58  1 45 59 43 57 57  1 58 46 43 63  1 56 43 50 47 43 60\n",
            " 43 42  1 59 57  1 46 59 51 39 52 43 50 63 11  0 40 59 58  1 58 46 43 63\n",
            "  1 58 46 47 52 49  1 61 43  1 39 56 43  1 58 53 53  1 42 43 39 56 10  1\n",
            " 58 46 43  1 50 43 39 52 52 43 57 57  1 58 46 39 58  0 39 44 44 50 47 41\n",
            " 58 57  1 59 57  6  1 58 46 43  1 53 40 48 43 41 58  1 53 44  1 53 59 56\n",
            "  1 51 47 57 43 56 63  6  1 47 57  1 39 57  1 39 52  0 47 52 60 43 52 58\n",
            " 53 56 63  1 58 53  1 54 39 56 58 47 41 59 50 39 56 47 57 43  1 58 46 43\n",
            " 47 56  1 39 40 59 52 42 39 52 41 43 11  1 53 59 56  0 57 59 44 44 43 56\n",
            " 39 52 41 43  1 47 57  1 39  1 45 39 47 52  1 58 53  1 58 46 43 51  1 24\n",
            " 43 58  1 59 57  1 56 43 60 43 52 45 43  1 58 46 47 57  1 61 47 58 46  0\n",
            " 53 59 56  1 54 47 49 43 57  6  1 43 56 43  1 61 43  1 40 43 41 53 51 43\n",
            "  1 56 39 49 43 57 10  1 44 53 56  1 58 46 43  1 45 53 42 57  1 49 52 53\n",
            " 61  1 21  0 57 54 43 39 49  1 58 46 47 57  1 47 52  1 46 59 52 45 43 56\n",
            "  1 44 53 56  1 40 56 43 39 42  6  1 52 53 58  1 47 52  1 58 46 47 56 57\n",
            " 58  1 44 53 56  1 56 43 60 43 52 45 43  8  0  0]\n"
          ]
        }
      ]
    },
    {
      "cell_type": "code",
      "source": [
        "# Let's now split up the data into train and validation sets\n",
        "n = int(0.9*len(data)) # first 90% will be train, rest val\n",
        "train_data = data[:n]\n",
        "val_data = data[n:]"
      ],
      "metadata": {
        "id": "vpzM0KLl4Hx_"
      },
      "execution_count": 36,
      "outputs": []
    },
    {
      "cell_type": "code",
      "source": [
        "block_size = 8 # the number of tokens the model looks at, aka context length\n",
        "train_data[:block_size+1]"
      ],
      "metadata": {
        "colab": {
          "base_uri": "https://localhost:8080/"
        },
        "id": "4OBB9NdD5z4r",
        "outputId": "e544c37a-b29d-4db1-9bac-f988458bcbe0"
      },
      "execution_count": 37,
      "outputs": [
        {
          "output_type": "execute_result",
          "data": {
            "text/plain": [
              "Array([18, 47, 56, 57, 58,  1, 15, 47, 58], dtype=int64)"
            ]
          },
          "metadata": {},
          "execution_count": 37
        }
      ]
    },
    {
      "cell_type": "code",
      "source": [
        "x = train_data[:block_size]\n",
        "y = train_data[1:block_size+1]\n",
        "for t in range(block_size):\n",
        "    context = x[:t+1]\n",
        "    target = y[t]\n",
        "    print(f\"when input is {context} the target: {target}\")"
      ],
      "metadata": {
        "colab": {
          "base_uri": "https://localhost:8080/"
        },
        "id": "CZQlJBQp51t9",
        "outputId": "3e477786-0b3b-42b4-c43b-8b1ddd0d4bb1"
      },
      "execution_count": 38,
      "outputs": [
        {
          "output_type": "stream",
          "name": "stdout",
          "text": [
            "when input is [18] the target: 47\n",
            "when input is [18 47] the target: 56\n",
            "when input is [18 47 56] the target: 57\n",
            "when input is [18 47 56 57] the target: 58\n",
            "when input is [18 47 56 57 58] the target: 1\n",
            "when input is [18 47 56 57 58  1] the target: 15\n",
            "when input is [18 47 56 57 58  1 15] the target: 47\n",
            "when input is [18 47 56 57 58  1 15 47] the target: 58\n"
          ]
        }
      ]
    },
    {
      "cell_type": "code",
      "source": [
        "from jax import random\n",
        "\n",
        "# NOTE: JAX does not keep a global ramdom seed\n",
        "# Users need to pass the random seed key to every call that requires random\n",
        "# seed.\n",
        "\n",
        "init_rng = random.PRNGKey(42)\n",
        "batch_size = 4 # how many independent sequences will we process in parallel?\n",
        "block_size = 8 # what is the maximum context length for predictions?\n",
        "\n",
        "def get_batch(split, rng):\n",
        "    # generate a small batch of data of inputs x and targets y\n",
        "    data = train_data if split == 'train' else val_data\n",
        "    ix = random.randint(rng, (batch_size, ), 0, len(data) - block_size)\n",
        "    x = jnp.stack([data[i:i+block_size] for i in ix])\n",
        "    y = jnp.stack([data[i+1:i+block_size+1] for i in ix])\n",
        "    return x, y\n",
        "\n",
        "xb, yb = get_batch('train', init_rng)\n",
        "print('inputs:')\n",
        "print(xb.shape)\n",
        "print(xb)\n",
        "print('targets:')\n",
        "print(yb.shape)\n",
        "print(yb)\n",
        "\n",
        "print('----')\n",
        "\n",
        "for b in range(batch_size): # batch dimension\n",
        "    for t in range(block_size): # time dimension\n",
        "        context = xb[b, :t+1]\n",
        "        target = yb[b,t]\n",
        "        print(f\"when input is {context.tolist()} the target: {target}\")"
      ],
      "metadata": {
        "colab": {
          "base_uri": "https://localhost:8080/"
        },
        "id": "0-I_tIoT5-VV",
        "outputId": "6cf8f9a0-30d1-463b-c49f-639a5f73f5c6"
      },
      "execution_count": 39,
      "outputs": [
        {
          "output_type": "stream",
          "name": "stdout",
          "text": [
            "inputs:\n",
            "(4, 8)\n",
            "[[ 0  5 18 53 56 43  1 63]\n",
            " [ 1 46 47 51  0 32 53  1]\n",
            " [ 1 46 43 56  0 33 52 58]\n",
            " [36 17 32 17 30 10  0 20]]\n",
            "targets:\n",
            "(4, 8)\n",
            "[[ 5 18 53 56 43  1 63 53]\n",
            " [46 47 51  0 32 53  1 46]\n",
            " [46 43 56  0 33 52 58 47]\n",
            " [17 32 17 30 10  0 20 43]]\n",
            "----\n",
            "when input is [0] the target: 5\n",
            "when input is [0, 5] the target: 18\n",
            "when input is [0, 5, 18] the target: 53\n",
            "when input is [0, 5, 18, 53] the target: 56\n",
            "when input is [0, 5, 18, 53, 56] the target: 43\n",
            "when input is [0, 5, 18, 53, 56, 43] the target: 1\n",
            "when input is [0, 5, 18, 53, 56, 43, 1] the target: 63\n",
            "when input is [0, 5, 18, 53, 56, 43, 1, 63] the target: 53\n",
            "when input is [1] the target: 46\n",
            "when input is [1, 46] the target: 47\n",
            "when input is [1, 46, 47] the target: 51\n",
            "when input is [1, 46, 47, 51] the target: 0\n",
            "when input is [1, 46, 47, 51, 0] the target: 32\n",
            "when input is [1, 46, 47, 51, 0, 32] the target: 53\n",
            "when input is [1, 46, 47, 51, 0, 32, 53] the target: 1\n",
            "when input is [1, 46, 47, 51, 0, 32, 53, 1] the target: 46\n",
            "when input is [1] the target: 46\n",
            "when input is [1, 46] the target: 43\n",
            "when input is [1, 46, 43] the target: 56\n",
            "when input is [1, 46, 43, 56] the target: 0\n",
            "when input is [1, 46, 43, 56, 0] the target: 33\n",
            "when input is [1, 46, 43, 56, 0, 33] the target: 52\n",
            "when input is [1, 46, 43, 56, 0, 33, 52] the target: 58\n",
            "when input is [1, 46, 43, 56, 0, 33, 52, 58] the target: 47\n",
            "when input is [36] the target: 17\n",
            "when input is [36, 17] the target: 32\n",
            "when input is [36, 17, 32] the target: 17\n",
            "when input is [36, 17, 32, 17] the target: 30\n",
            "when input is [36, 17, 32, 17, 30] the target: 10\n",
            "when input is [36, 17, 32, 17, 30, 10] the target: 0\n",
            "when input is [36, 17, 32, 17, 30, 10, 0] the target: 20\n",
            "when input is [36, 17, 32, 17, 30, 10, 0, 20] the target: 43\n"
          ]
        }
      ]
    },
    {
      "cell_type": "code",
      "source": [
        "print(xb) # our input to the transformer"
      ],
      "metadata": {
        "colab": {
          "base_uri": "https://localhost:8080/"
        },
        "id": "iJ-nKqBzPNwy",
        "outputId": "3dd8dbe6-f139-4b73-e639-3b3c9fa29317"
      },
      "execution_count": 40,
      "outputs": [
        {
          "output_type": "stream",
          "name": "stdout",
          "text": [
            "[[ 0  5 18 53 56 43  1 63]\n",
            " [ 1 46 47 51  0 32 53  1]\n",
            " [ 1 46 43 56  0 33 52 58]\n",
            " [36 17 32 17 30 10  0 20]]\n"
          ]
        }
      ]
    },
    {
      "cell_type": "markdown",
      "source": [
        "## For simplicity, start with a Bigram language model"
      ],
      "metadata": {
        "id": "xUOqNH7M7dYG"
      }
    },
    {
      "cell_type": "code",
      "source": [
        "import flax.linen as nn\n",
        "\n",
        "class BigramLanguageModel(nn.Module):\n",
        "    vocab_size: int\n",
        "\n",
        "    # This is explicit setup similar to PyTorch\n",
        "    def setup(self):\n",
        "        # each token directly reads off the logits for the next token from a lookup table\n",
        "        self.token_embedding_table = nn.Embed(self.vocab_size, self.vocab_size)\n",
        "\n",
        "    def __call__(self, idx):\n",
        "\n",
        "        # idx are (B, T) tensor of integers: B is batch size, T is context length\n",
        "        # C is channel length which equals to vocab_size here.\n",
        "        logits = self.token_embedding_table(idx) # (B,T,C)\n",
        "\n",
        "        return logits\n",
        "\n",
        "bgm = BigramLanguageModel(vocab_size)\n",
        "print(bgm.tabulate(jax.random.PRNGKey(0), jnp.ones((vocab_size, vocab_size), dtype=jnp.int64)))"
      ],
      "metadata": {
        "colab": {
          "base_uri": "https://localhost:8080/"
        },
        "id": "cMjc6f04GFuj",
        "outputId": "da930b2e-9e10-4ae0-ee69-23c2dbf31fdf"
      },
      "execution_count": 41,
      "outputs": [
        {
          "output_type": "stream",
          "name": "stdout",
          "text": [
            "\n",
            "\u001b[3m                          BigramLanguageModel Summary                           \u001b[0m\n",
            "┏━━━━━━━━━━━━━━━┳━━━━━━━━━━━━━━━┳━━━━━━━━━━━━━━┳━━━━━━━━━━━━━━━┳━━━━━━━━━━━━━━━┓\n",
            "┃\u001b[1m \u001b[0m\u001b[1mpath         \u001b[0m\u001b[1m \u001b[0m┃\u001b[1m \u001b[0m\u001b[1mmodule       \u001b[0m\u001b[1m \u001b[0m┃\u001b[1m \u001b[0m\u001b[1minputs      \u001b[0m\u001b[1m \u001b[0m┃\u001b[1m \u001b[0m\u001b[1moutputs      \u001b[0m\u001b[1m \u001b[0m┃\u001b[1m \u001b[0m\u001b[1mparams       \u001b[0m\u001b[1m \u001b[0m┃\n",
            "┡━━━━━━━━━━━━━━━╇━━━━━━━━━━━━━━━╇━━━━━━━━━━━━━━╇━━━━━━━━━━━━━━━╇━━━━━━━━━━━━━━━┩\n",
            "│               │ BigramLangua… │ \u001b[2mint64\u001b[0m[65,65] │ \u001b[2mfloat32\u001b[0m[65,6… │               │\n",
            "├───────────────┼───────────────┼──────────────┼───────────────┼───────────────┤\n",
            "│ token_embedd… │ Embed         │ \u001b[2mint64\u001b[0m[65,65] │ \u001b[2mfloat32\u001b[0m[65,6… │ embedding:    │\n",
            "│               │               │              │               │ \u001b[2mfloat32\u001b[0m[65,6… │\n",
            "│               │               │              │               │               │\n",
            "│               │               │              │               │ \u001b[1m4,225 \u001b[0m\u001b[1;2m(16.9 \u001b[0m  │\n",
            "│               │               │              │               │ \u001b[1;2mKB)\u001b[0m           │\n",
            "├───────────────┼───────────────┼──────────────┼───────────────┼───────────────┤\n",
            "│\u001b[1m \u001b[0m\u001b[1m             \u001b[0m\u001b[1m \u001b[0m│\u001b[1m \u001b[0m\u001b[1m             \u001b[0m\u001b[1m \u001b[0m│\u001b[1m \u001b[0m\u001b[1m            \u001b[0m\u001b[1m \u001b[0m│\u001b[1m \u001b[0m\u001b[1m        Total\u001b[0m\u001b[1m \u001b[0m│\u001b[1m \u001b[0m\u001b[1m4,225 \u001b[0m\u001b[1;2m(16.9 \u001b[0m\u001b[1m \u001b[0m\u001b[1m \u001b[0m│\n",
            "│\u001b[1m               \u001b[0m│\u001b[1m               \u001b[0m│\u001b[1m              \u001b[0m│\u001b[1m               \u001b[0m│\u001b[1m \u001b[0m\u001b[1;2mKB)\u001b[0m\u001b[1m          \u001b[0m\u001b[1m \u001b[0m│\n",
            "└───────────────┴───────────────┴──────────────┴───────────────┴───────────────┘\n",
            "\u001b[1m                                                                                \u001b[0m\n",
            "\u001b[1m                       Total Parameters: 4,225 \u001b[0m\u001b[1;2m(16.9 KB)\u001b[0m\u001b[1m                        \u001b[0m\n",
            "\n",
            "\n"
          ]
        }
      ]
    },
    {
      "cell_type": "code",
      "source": [
        "from flax.core.frozen_dict import V\n",
        "import optax\n",
        "\n",
        "_, rng = random.split(init_rng)\n",
        "m = BigramLanguageModel(vocab_size)\n",
        "\n",
        "# Initialize model weights\n",
        "# NOTE: in JAX, the model doesn't store any weights because JAX is a functional\n",
        "# programming language and each function call is pure.\n",
        "params = m.init(rng, jnp.zeros((vocab_size, vocab_size), dtype=jnp.int64))\n",
        "\n",
        "# Check the parameters\n",
        "jax.tree_map(lambda x: x.shape, params)\n",
        "\n",
        "# NOTE: in FLAX, users cannot directly call the model as m(x). Instead, we need\n",
        "# to explicitly pass in the arguments.\n",
        "logits = m.apply(params, xb)\n",
        "\n",
        "print(f'{logits.shape=}')\n",
        "print(f'{yb.shape=}')\n",
        "\n",
        "loss = optax.softmax_cross_entropy_with_integer_labels(logits, yb).mean()\n",
        "print(f'{loss=}')"
      ],
      "metadata": {
        "colab": {
          "base_uri": "https://localhost:8080/"
        },
        "id": "9akpfMA1PCMa",
        "outputId": "b44be3b6-8c72-4845-ea6e-a92708b1fd23"
      },
      "execution_count": 42,
      "outputs": [
        {
          "output_type": "stream",
          "name": "stdout",
          "text": [
            "logits.shape=(4, 8, 65)\n",
            "yb.shape=(4, 8)\n",
            "loss=Array(4.1697493, dtype=float32)\n"
          ]
        }
      ]
    },
    {
      "cell_type": "code",
      "source": [
        "# from flax.core.frozen_dict import V\n",
        "import optax\n",
        "\n",
        "# This is a JAX implementation of the PyTorch multinomial function.\n",
        "def multinomial(rng, input, num_samples, replacement=False):\n",
        "    # input: Tensor of shape (batch_size, num_categories) containing the probabilities for each category\n",
        "    # num_samples: The number of samples to draw for each batch\n",
        "    # replacement: Whether to sample with replacement or not\n",
        "\n",
        "    batch_size, num_categories = input.shape\n",
        "\n",
        "    # Transform input to log probabilities\n",
        "    log_probs = jnp.log(input)\n",
        "\n",
        "    # Generate random samples\n",
        "    samples = jax.random.categorical(rng, log_probs, axis=-1)\n",
        "\n",
        "    # If replacement is False, we need to ensure unique samples within each batch\n",
        "    if not replacement:\n",
        "        unique_samples = jnp.unique(samples, axis=-1, return_counts=True)\n",
        "        repeated_indices = unique_samples[1] > 1\n",
        "        while jnp.any(repeated_indices):\n",
        "            # Replace repeated samples with new samples\n",
        "            new_samples = jax.random.categorical(rng, log_probs, jnp.sum(repeated_indices), axis=-1)\n",
        "            samples = jnp.where(repeated_indices[:, jnp.newaxis], new_samples, samples)\n",
        "\n",
        "            unique_samples = jnp.unique(samples, axis=-1, return_counts=True)\n",
        "            repeated_indices = unique_samples[1] > 1\n",
        "\n",
        "    return jnp.expand_dims(samples, 1)\n",
        "\n",
        "# The generate method here is generic, even though the bigram model only looks\n",
        "# at one token before the current.\n",
        "def generate(model, rng, params, idx, max_new_tokens):\n",
        "    # idx is (B, T) array of indices in the current context\n",
        "    for _ in range(max_new_tokens):\n",
        "        # get the predictions\n",
        "        logits = model.apply(params, idx)\n",
        "        # focus only on the last time step\n",
        "        logits = logits[:, -1, :] # becomes (B, C)\n",
        "\n",
        "        # apply softmax to get probabilities\n",
        "        probs = jax.nn.softmax(logits, axis=-1) # (B, C)\n",
        "        # sample from the distribution\n",
        "        _, rng = random.split(rng)\n",
        "\n",
        "        idx_next = multinomial(rng, probs, num_samples=1) # (B, 1)\n",
        "\n",
        "        # append sampled index to the running sequence\n",
        "        idx = jnp.concatenate((idx, idx_next), axis=1) # (B, T+1)\n",
        "    return idx\n",
        "\n",
        "_, rng = random.split(rng)\n",
        "\n",
        "idx = generate(m, rng, params, jnp.zeros((1, 1), dtype=jnp.int64), max_new_tokens=100)\n",
        "print(idx)\n",
        "print(decode(generate(m, rng, params, idx = jnp.zeros((1, 1), dtype=jnp.int64), max_new_tokens=100)[0].tolist()))\n"
      ],
      "metadata": {
        "colab": {
          "base_uri": "https://localhost:8080/"
        },
        "id": "1SxnzFt8SD5K",
        "outputId": "4c547f4f-d31c-4886-9e08-d03c99f5865a"
      },
      "execution_count": 43,
      "outputs": [
        {
          "output_type": "stream",
          "name": "stdout",
          "text": [
            "[[ 0 34 28 35 30 62  3  8 56 60 29  0 57 44 34 25 28  9 31 20 16 61  1  1\n",
            "  49 21 11 35 47 44 45 35 28  1 56 15  3 43  8 56 54 32 20 51 48 56 18 33\n",
            "   8 52 43 25 53 28 60 50 40 28 26 28 35 60 37 37 62 63 17 53 37 33  9 12\n",
            "  25 40 21 43 53 28 18 16 51 37  0 13 35 48 37 20 21 39 45 57 35 43 25 20\n",
            "  28  5 50  3 15]]\n",
            "\n",
            "VPWRx$.rvQ\n",
            "sfVMP3SHDw  kI;WifgWP rC$e.rpTHmjrFU.neMoPvlbPNPWvYYxyEoYU3?MbIeoPFDmY\n",
            "AWjYHIagsWeMHP'l$C\n"
          ]
        }
      ]
    },
    {
      "cell_type": "markdown",
      "source": [
        "## Write a training loop"
      ],
      "metadata": {
        "id": "WR2IOISER7Wd"
      }
    },
    {
      "cell_type": "code",
      "source": [
        "!pip install -q clu"
      ],
      "metadata": {
        "id": "HnksBHuqHpZm"
      },
      "execution_count": 44,
      "outputs": []
    },
    {
      "cell_type": "code",
      "source": [
        "from clu import metrics\n",
        "from flax.training import train_state  # Useful dataclass to keep train state\n",
        "from flax import struct                # Flax dataclasses\n",
        "import optax                           # Common loss functions and optimizers\n"
      ],
      "metadata": {
        "id": "CEpx8P-LHSLp"
      },
      "execution_count": 45,
      "outputs": []
    },
    {
      "cell_type": "code",
      "source": [
        "@struct.dataclass\n",
        "class Metrics(metrics.Collection):\n",
        "  accuracy: metrics.Accuracy\n",
        "  loss: metrics.Average.from_output('loss')\n",
        "\n",
        "class TrainState(train_state.TrainState):\n",
        "  metrics: Metrics\n",
        "\n",
        "def create_train_state(module, rng, learning_rate):\n",
        "  \"\"\"Creates an initial `TrainState`.\"\"\"\n",
        "  params = module.init(rng, jnp.ones((65, 65), dtype=jnp.int64))['params'] # initialize parameters by passing a template image\n",
        "  tx = optax.adamw(learning_rate)\n",
        "  return TrainState.create(\n",
        "      apply_fn=module.apply, params=params, tx=tx,\n",
        "      metrics=Metrics.empty())"
      ],
      "metadata": {
        "id": "Ah6r121mHkbR"
      },
      "execution_count": 46,
      "outputs": []
    },
    {
      "cell_type": "code",
      "source": [
        "@jax.jit\n",
        "def train_step(state, batch):\n",
        "  \"\"\"Train for a single step.\"\"\"\n",
        "  def loss_fn(params):\n",
        "    logits = state.apply_fn({'params': params}, batch['x'])\n",
        "    loss = optax.softmax_cross_entropy_with_integer_labels(\n",
        "        logits=logits, labels=batch['y'].astype(jnp.int32)).mean()\n",
        "    return loss\n",
        "  grad_fn = jax.grad(loss_fn)\n",
        "  grads = grad_fn(state.params)\n",
        "  state = state.apply_gradients(grads=grads)\n",
        "  return state"
      ],
      "metadata": {
        "id": "xh1z30xkLSiv"
      },
      "execution_count": 47,
      "outputs": []
    },
    {
      "cell_type": "code",
      "source": [
        "@jax.jit\n",
        "def compute_metrics(*, state, batch):\n",
        "  logits = state.apply_fn({'params': state.params}, batch['x'])\n",
        "  loss = optax.softmax_cross_entropy_with_integer_labels(\n",
        "        logits=logits, labels=batch['y'].astype(jnp.int32)).mean()\n",
        "  metric_updates = state.metrics.single_from_model_output(\n",
        "    logits=logits, labels=batch['y'].astype(jnp.int32), loss=loss)\n",
        "  metrics = state.metrics.merge(metric_updates)\n",
        "  state = state.replace(metrics=metrics)\n",
        "  return state"
      ],
      "metadata": {
        "id": "oz3FHGDdS7A3"
      },
      "execution_count": 48,
      "outputs": []
    },
    {
      "cell_type": "markdown",
      "source": [
        "## Initialize the TrainState\n",
        "\n"
      ],
      "metadata": {
        "id": "3nwutTFEUZ9R"
      }
    },
    {
      "cell_type": "code",
      "source": [
        "_, rng = random.split(rng)\n",
        "learning_rate = 0.001\n",
        "state = create_train_state(bgm, rng, learning_rate)"
      ],
      "metadata": {
        "id": "02o22N4EUa6y"
      },
      "execution_count": 49,
      "outputs": []
    },
    {
      "cell_type": "code",
      "source": [
        "# print(batch['x'])\n",
        "for steps in range(10):\n",
        "\n",
        "  # sample a batch of data\n",
        "  _, rng = random.split(rng)\n",
        "  xb, yb = get_batch('train', rng)\n",
        "  train_batch = {'x': xb, 'y': yb}\n",
        "\n",
        "  # evaluate loss\n",
        "  state = train_step(state, train_batch)\n",
        "  state = compute_metrics(state=state, batch=train_batch)\n",
        "\n",
        "  # print the loss\n",
        "  print(f'loss: {state.metrics.compute}')\n"
      ],
      "metadata": {
        "id": "4hHJbzO1VJ5m",
        "outputId": "677faec6-c80a-4415-98da-ba52eeb0a36d",
        "colab": {
          "base_uri": "https://localhost:8080/"
        }
      },
      "execution_count": 51,
      "outputs": [
        {
          "output_type": "stream",
          "name": "stdout",
          "text": [
            "loss: <bound method Collection.compute of Metrics(_reduction_counter=_ReductionCounter(value=Array(12, dtype=int32)), accuracy=Accuracy(total=Array(2., dtype=float32), count=Array(352, dtype=int64)), loss=Metric.from_output.<locals>.FromOutput(total=Array(46.11226, dtype=float32), count=Array(11, dtype=int64)))>\n",
            "loss: <bound method Collection.compute of Metrics(_reduction_counter=_ReductionCounter(value=Array(13, dtype=int32)), accuracy=Accuracy(total=Array(2., dtype=float32), count=Array(384, dtype=int64)), loss=Metric.from_output.<locals>.FromOutput(total=Array(50.30012, dtype=float32), count=Array(12, dtype=int64)))>\n",
            "loss: <bound method Collection.compute of Metrics(_reduction_counter=_ReductionCounter(value=Array(14, dtype=int32)), accuracy=Accuracy(total=Array(2., dtype=float32), count=Array(416, dtype=int64)), loss=Metric.from_output.<locals>.FromOutput(total=Array(54.463566, dtype=float32), count=Array(13, dtype=int64)))>\n",
            "loss: <bound method Collection.compute of Metrics(_reduction_counter=_ReductionCounter(value=Array(15, dtype=int32)), accuracy=Accuracy(total=Array(3., dtype=float32), count=Array(448, dtype=int64)), loss=Metric.from_output.<locals>.FromOutput(total=Array(58.60573, dtype=float32), count=Array(14, dtype=int64)))>\n",
            "loss: <bound method Collection.compute of Metrics(_reduction_counter=_ReductionCounter(value=Array(16, dtype=int32)), accuracy=Accuracy(total=Array(3., dtype=float32), count=Array(480, dtype=int64)), loss=Metric.from_output.<locals>.FromOutput(total=Array(62.78237, dtype=float32), count=Array(15, dtype=int64)))>\n",
            "loss: <bound method Collection.compute of Metrics(_reduction_counter=_ReductionCounter(value=Array(17, dtype=int32)), accuracy=Accuracy(total=Array(3., dtype=float32), count=Array(512, dtype=int64)), loss=Metric.from_output.<locals>.FromOutput(total=Array(66.95767, dtype=float32), count=Array(16, dtype=int64)))>\n",
            "loss: <bound method Collection.compute of Metrics(_reduction_counter=_ReductionCounter(value=Array(18, dtype=int32)), accuracy=Accuracy(total=Array(3., dtype=float32), count=Array(544, dtype=int64)), loss=Metric.from_output.<locals>.FromOutput(total=Array(71.10816, dtype=float32), count=Array(17, dtype=int64)))>\n",
            "loss: <bound method Collection.compute of Metrics(_reduction_counter=_ReductionCounter(value=Array(19, dtype=int32)), accuracy=Accuracy(total=Array(3., dtype=float32), count=Array(576, dtype=int64)), loss=Metric.from_output.<locals>.FromOutput(total=Array(75.29083, dtype=float32), count=Array(18, dtype=int64)))>\n",
            "loss: <bound method Collection.compute of Metrics(_reduction_counter=_ReductionCounter(value=Array(20, dtype=int32)), accuracy=Accuracy(total=Array(3., dtype=float32), count=Array(608, dtype=int64)), loss=Metric.from_output.<locals>.FromOutput(total=Array(79.47376, dtype=float32), count=Array(19, dtype=int64)))>\n",
            "loss: <bound method Collection.compute of Metrics(_reduction_counter=_ReductionCounter(value=Array(21, dtype=int32)), accuracy=Accuracy(total=Array(3., dtype=float32), count=Array(640, dtype=int64)), loss=Metric.from_output.<locals>.FromOutput(total=Array(83.62949, dtype=float32), count=Array(20, dtype=int64)))>\n"
          ]
        }
      ]
    },
    {
      "cell_type": "markdown",
      "source": [
        "##  The mathematical trick in self-attention"
      ],
      "metadata": {
        "id": "b3nTR_oUUw5F"
      }
    },
    {
      "cell_type": "code",
      "source": [
        "# consider the following toy example:\n",
        "B, T, C = 4, 8, 2 # batch, time, channels\n",
        "x = random.uniform(rng, shape=(B, T, C))\n",
        "x.shape"
      ],
      "metadata": {
        "colab": {
          "base_uri": "https://localhost:8080/"
        },
        "id": "p2uZq9xBWB82",
        "outputId": "ab9a9979-d60c-44ac-9af4-224793f6f143"
      },
      "execution_count": 52,
      "outputs": [
        {
          "output_type": "execute_result",
          "data": {
            "text/plain": [
              "(4, 8, 2)"
            ]
          },
          "metadata": {},
          "execution_count": 52
        }
      ]
    },
    {
      "cell_type": "code",
      "source": [
        "# version 1: bruteforce nested for-loop\n",
        "# We want x[b,t] = mean_{i<=t} x[b,i]\n",
        "xbow = jnp.zeros((B,T,C))\n",
        "for b in range(B):\n",
        "    for t in range(T):\n",
        "        xprev = x[b,:t+1] # (t,C)\n",
        "        # NOTE: directly update the xbow like below will error out\n",
        "        # xbow[b,t] = jnp.mean(xprev)\n",
        "        # TypeError: '<class 'jaxlib.xla_extension.ArrayImpl'>' object does not\n",
        "        # support item assignment. JAX arrays are immutable.\n",
        "        # Instead of ``x[idx] = y``, use ``x = x.at[idx].set(y)`` or another .at[] method:\n",
        "        xbow = xbow.at[b, t].set(jnp.mean(xprev, axis=0))"
      ],
      "metadata": {
        "id": "v-jgLfZPW4TQ"
      },
      "execution_count": 53,
      "outputs": []
    },
    {
      "cell_type": "code",
      "source": [
        "# toy example illustrating how matrix multiplication can be used for a \"weighted aggregation\"\n",
        "a = jnp.tril(jnp.ones((3, 3)))\n",
        "a = a / jnp.sum(a, 1, keepdims=True)\n",
        "b = random.randint(rng, (3, 2), 0, 10).astype(jnp.float32)\n",
        "c = a @ b\n",
        "print('a=')\n",
        "print(a)\n",
        "print('--')\n",
        "print('b=')\n",
        "print(b)\n",
        "print('--')\n",
        "print('c=')\n",
        "print(c)"
      ],
      "metadata": {
        "id": "9W_irRs6dAlT",
        "colab": {
          "base_uri": "https://localhost:8080/"
        },
        "outputId": "795c4b80-84a0-42ef-8647-0b4fb0f9051c"
      },
      "execution_count": 54,
      "outputs": [
        {
          "output_type": "stream",
          "name": "stdout",
          "text": [
            "a=\n",
            "[[1.         0.         0.        ]\n",
            " [0.5        0.5        0.        ]\n",
            " [0.33333333 0.33333333 0.33333333]]\n",
            "--\n",
            "b=\n",
            "[[7. 0.]\n",
            " [9. 3.]\n",
            " [6. 1.]]\n",
            "--\n",
            "c=\n",
            "[[7.         0.        ]\n",
            " [8.         1.5       ]\n",
            " [7.33333333 1.33333333]]\n"
          ]
        }
      ]
    },
    {
      "cell_type": "code",
      "source": [
        "# version 2: using matrix multiply for a weighted aggregation\n",
        "wei = jnp.tril(jnp.ones((T, T)))\n",
        "wei = wei / jnp.sum(wei, 1, keepdims=True)\n",
        "xbow2 = wei @ x # (B, T, T) @ (B, T, C) ----> (B, T, C)\n",
        "jnp.allclose(xbow, xbow2)"
      ],
      "metadata": {
        "colab": {
          "base_uri": "https://localhost:8080/"
        },
        "id": "-CWzTs7LVDBT",
        "outputId": "38df38c9-8c65-40b6-de87-16d14433092c"
      },
      "execution_count": 55,
      "outputs": [
        {
          "output_type": "execute_result",
          "data": {
            "text/plain": [
              "Array(True, dtype=bool)"
            ]
          },
          "metadata": {},
          "execution_count": 55
        }
      ]
    },
    {
      "cell_type": "code",
      "source": [
        "# version 3: use Softmax\n",
        "def masked_fill(mask, a, fill):\n",
        "  return jax.lax.select(mask, a, jax.lax.broadcast(fill, a.shape))\n",
        "\n",
        "tril = jnp.tril(jnp.ones((T, T)))\n",
        "wei = jnp.zeros((T, T))\n",
        "# NOTE: np.where is equilant to torch.masked_fill\n",
        "wei = jnp.where(tril == 0, float('-inf'), wei)\n",
        "wei = jax.nn.softmax(wei, axis=-1)\n",
        "xbow3 = wei @ x\n",
        "jnp.allclose(xbow, xbow3)\n"
      ],
      "metadata": {
        "colab": {
          "base_uri": "https://localhost:8080/"
        },
        "id": "GMQ3O2O9arRs",
        "outputId": "c7b16043-fe31-4a86-b2f8-d7a6a257673c"
      },
      "execution_count": 56,
      "outputs": [
        {
          "output_type": "execute_result",
          "data": {
            "text/plain": [
              "Array(True, dtype=bool)"
            ]
          },
          "metadata": {},
          "execution_count": 56
        }
      ]
    },
    {
      "cell_type": "code",
      "source": [
        "# version 4: self-attention!\n",
        "\n",
        "B,T,C = 4,8,32 # batch, time, channels\n",
        "x = random.uniform(rng, shape=(B,T,C))\n",
        "\n",
        "krng, qrng = random.split(rng)\n",
        "\n",
        "# let's see a single Head perform self-attention\n",
        "head_size = 16\n",
        "key_layer = nn.Dense(head_size, use_bias=False)\n",
        "query_layer = nn.Dense(head_size, use_bias=False)\n",
        "value_layer = nn.Dense(head_size, use_bias=False)\n",
        "\n",
        "k, _ = key_layer.init_with_output(krng, x)   # (B, T, 16)\n",
        "q, _ = query_layer.init_with_output(qrng, x) # (B, T, 16)\n",
        "\n",
        "wei =  q @ jnp.swapaxes(k, -2, -1) # (B, T, 16) @ (B, 16, T) ---> (B, T, T)\n",
        "\n",
        "tril = jnp.tril(jnp.ones((T, T)))\n",
        "wei = jnp.where(tril == 0, float('-inf'), wei)\n",
        "wei = jax.nn.softmax(wei, axis=-1)\n",
        "\n",
        "vrng, _ = random.split(qrng)\n",
        "v, _ = value_layer.init_with_output(vrng, x)\n",
        "out = wei @ v\n",
        "\n",
        "out.shape"
      ],
      "metadata": {
        "id": "HbdowL_Qe_ZF",
        "colab": {
          "base_uri": "https://localhost:8080/"
        },
        "outputId": "785a80cb-5536-4e61-e991-634391639a3b"
      },
      "execution_count": 70,
      "outputs": [
        {
          "output_type": "execute_result",
          "data": {
            "text/plain": [
              "(4, 8, 16)"
            ]
          },
          "metadata": {},
          "execution_count": 70
        }
      ]
    },
    {
      "cell_type": "code",
      "source": [
        "wei[0]"
      ],
      "metadata": {
        "colab": {
          "base_uri": "https://localhost:8080/"
        },
        "id": "XM7t4xpCbgwd",
        "outputId": "7dce9eef-a1e3-4389-a9eb-d508642e1936"
      },
      "execution_count": 71,
      "outputs": [
        {
          "output_type": "execute_result",
          "data": {
            "text/plain": [
              "Array([[1.        , 0.        , 0.        , 0.        , 0.        ,\n",
              "        0.        , 0.        , 0.        ],\n",
              "       [0.3516585 , 0.6483415 , 0.        , 0.        , 0.        ,\n",
              "        0.        , 0.        , 0.        ],\n",
              "       [0.25266947, 0.30710639, 0.44022414, 0.        , 0.        ,\n",
              "        0.        , 0.        , 0.        ],\n",
              "       [0.13072198, 0.20058656, 0.39212968, 0.27656178, 0.        ,\n",
              "        0.        , 0.        , 0.        ],\n",
              "       [0.02939103, 0.05089698, 0.29577893, 0.39374995, 0.23018311,\n",
              "        0.        , 0.        , 0.        ],\n",
              "       [0.07160868, 0.09075699, 0.222758  , 0.29105647, 0.15217608,\n",
              "        0.17164378, 0.        , 0.        ],\n",
              "       [0.0637862 , 0.12791049, 0.41189133, 0.16572621, 0.04846995,\n",
              "        0.12028385, 0.06193197, 0.        ],\n",
              "       [0.05714426, 0.07514107, 0.31398966, 0.15248134, 0.14731544,\n",
              "        0.09157707, 0.09436963, 0.06798153]], dtype=float64)"
            ]
          },
          "metadata": {},
          "execution_count": 71
        }
      ]
    },
    {
      "cell_type": "markdown",
      "source": [
        "Notes:\n",
        "\n",
        "Attention is a communication mechanism. Can be seen as nodes in a directed graph looking at each other and aggregating information with a weighted sum from all nodes that point to them, with data-dependent weights.\n",
        "There is no notion of space. Attention simply acts over a set of vectors. This is why we need to positionally encode tokens.\n",
        "Each example across batch dimension is of course processed completely independently and never \"talk\" to each other\n",
        "In an \"encoder\" attention block just delete the single line that does masking with tril, allowing all tokens to communicate. This block here is called a \"decoder\" attention block because it has triangular masking, and is usually used in autoregressive settings, like language modeling.\n",
        "\"self-attention\" just means that the keys and values are produced from the same source as queries. In \"cross-attention\", the queries still get produced from x, but the keys and values come from some other, external source (e.g. an encoder module)\n",
        "\"Scaled\" attention additional divides wei by 1/sqrt(head_size). This makes it so when input Q,K are unit variance, wei will be unit variance too and Softmax will stay diffuse and not saturate too much. Illustration below"
      ],
      "metadata": {
        "id": "yhA6gXYCEUH9"
      }
    },
    {
      "cell_type": "code",
      "source": [],
      "metadata": {
        "id": "PsZ66ZtoECxW"
      },
      "execution_count": null,
      "outputs": []
    }
  ]
}